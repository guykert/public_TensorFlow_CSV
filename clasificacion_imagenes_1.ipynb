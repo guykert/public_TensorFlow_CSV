{
  "nbformat": 4,
  "nbformat_minor": 0,
  "metadata": {
    "colab": {
      "provenance": [],
      "include_colab_link": true
    },
    "kernelspec": {
      "name": "python3",
      "display_name": "Python 3"
    }
  },
  "cells": [
    {
      "cell_type": "markdown",
      "metadata": {
        "id": "view-in-github",
        "colab_type": "text"
      },
      "source": [
        "<a href=\"https://colab.research.google.com/github/guykert/public_TensorFlow_CSV/blob/main/clasificacion_imagenes_1.ipynb\" target=\"_parent\"><img src=\"https://colab.research.google.com/assets/colab-badge.svg\" alt=\"Open In Colab\"/></a>"
      ]
    },
    {
      "cell_type": "code",
      "metadata": {
        "id": "_ZnVG78z6nBv",
        "outputId": "b5f938ab-042d-4921-db87-653890907dce",
        "colab": {
          "base_uri": "https://localhost:8080/",
          "height": 122
        }
      },
      "source": [
        "# me conecto a la cuenta de google drive para poder acceder a los archivos\n",
        "\n",
        "from google.colab import drive\n",
        "drive.mount('/content/drive')"
      ],
      "execution_count": null,
      "outputs": [
        {
          "output_type": "stream",
          "text": [
            "Go to this URL in a browser: https://accounts.google.com/o/oauth2/auth?client_id=947318989803-6bn6qk8qdgf4n4g3pfee6491hc0brc4i.apps.googleusercontent.com&redirect_uri=urn%3aietf%3awg%3aoauth%3a2.0%3aoob&response_type=code&scope=email%20https%3a%2f%2fwww.googleapis.com%2fauth%2fdocs.test%20https%3a%2f%2fwww.googleapis.com%2fauth%2fdrive%20https%3a%2f%2fwww.googleapis.com%2fauth%2fdrive.photos.readonly%20https%3a%2f%2fwww.googleapis.com%2fauth%2fpeopleapi.readonly\n",
            "\n",
            "Enter your authorization code:\n",
            "··········\n",
            "Mounted at /content/drive\n"
          ],
          "name": "stdout"
        }
      ]
    },
    {
      "cell_type": "code",
      "metadata": {
        "id": "KqWGvydy7EIg",
        "colab": {
          "base_uri": "https://localhost:8080/",
          "height": 34
        },
        "outputId": "23149152-e613-4a19-e389-5c6d1157e0d6"
      },
      "source": [
        "# librería de cabecera para trabajar con matricesy vectores\n",
        "import numpy as np\n",
        "#framework para supervisar el aprendizaje de la red\n",
        "import keras\n",
        "# defino una variable con el backend de keras\n",
        "from keras import backend as k\n",
        "# Crear modelos de aprendizaje profundo donde se crea una instancia de la clase Sequential y se crean y agregan capas de modelo. \n",
        "from keras.models import Sequential\n",
        "# al parecer estemodelo es un modelo precargado\n",
        "from keras.layers import Activation\n",
        "# al parecer estemodelo es un modelo precargado\n",
        "from keras.layers.core import Dense, Flatten\n",
        "# Optimizador que implementa el algoritmo Adam.\n",
        "\n",
        "#La optimización de Adam es un método de descenso de gradiente estocástico que se basa en la estimación adaptativa de los momentos de primer y segundo orden. \n",
        "#Según el artículo Adam: un método para la optimización estocástica. \n",
        "#Kingma et al., 2014 , el método es \" computacionalmente eficiente, tiene pocos requisitos de memoria, invariante para el reescalado diagonal de gradientes, \n",
        "#y es muy adecuado para problemas que son grandes en términos de datos / parámetros \".\n",
        "\n",
        "from keras.optimizers import Adam\n",
        "\n",
        "# Esto se utiliza para rotar las imagenes y tener una gama más alta de imagenes para el aprendizaje\n",
        "\n",
        "# Documentación : https://enmilocalfunciona.io/tratamiento-de-imagenes-usando-imagedatagenerator-en-keras/\n",
        "\n",
        "from keras.preprocessing.image import ImageDataGenerator\n",
        "# esto es paratrabajar las imagenes.\n",
        "\n",
        "#ejemplos para probar  : https://missinglink.ai/guides/keras/using-keras-flatten-operation-cnn-models-code-examples/\n",
        "\n",
        "from keras.layers.convolutional import *\n",
        "# librería de visualización de datos\n",
        "from matplotlib import pyplot as plt\n",
        "\n",
        "#Matriz de confusión\n",
        "\n",
        "# Una matriz de confusión describe el rendimiento del modelo de clasificación. En otras palabras, \n",
        "#la matriz de confusión es una forma de resumir el rendimiento del clasificador. \n",
        "\n",
        "from sklearn.metrics import confusion_matrix\n",
        "\n",
        "# Itertool de Python es un módulo que proporciona varias funciones que funcionan en iteradores para producir iteradores complejos. \n",
        "# Este módulo funciona como una herramienta rápida y eficiente en la memoria que se usa sola o en combinación para formar álgebra iteradora .\n",
        "\n",
        "# Por ejemplo, supongamos que hay dos listas y desea multiplicar sus elementos. \n",
        "# Puede haber varias formas de lograr esto. Uno puede estar usando el enfoque ingenuo, es decir, \n",
        "# iterando a través de los elementos de la lista simultáneamente y multiplicándolos. \n",
        "# Y otro enfoque puede ser utilizar la función de mapa, es decir, \n",
        "# pasar el muloperador como primer parámetro a la función de mapa y Listas como el segundo y tercer parámetro a esta función. Veamos el tiempo que toma cada enfoque.\n",
        "\n",
        "\n",
        "import itertools\n",
        "\n",
        "# Matplotlib es una librería para generar gráficas a partir de datos contenidos en listas, vectores, \n",
        "# en el lenguaje de programación Python y en su extensión matemática NumPy.\n",
        "\n",
        "# En estapágina hay un tutorial de estatema : https://pybonacci.org/2012/05/14/manual-de-introduccion-a-matplotlib-pyplot-i/\n",
        "\n",
        "import matplotlib.pyplot as plt\n",
        "\n",
        "%matplotlib inline\n",
        "\n",
        "#Using theano backend\n",
        "\n",
        "\n",
        "\n",
        "# libro con tutoriales :  https://torres.ai/deep-learning-inteligencia-artificial-keras/ \n",
        "# este git tiene los ejemplos :  https://github.com/jorditorresBCN/Deep-Learning-Introduccion-practica-con-Keras\n",
        "\n",
        "\n",
        "\n",
        "\n",
        "# Curso de python : https://www.eumus.edu.uy/eme/ensenanza/electivas/python.html"
      ],
      "execution_count": null,
      "outputs": [
        {
          "output_type": "stream",
          "text": [
            "Using TensorFlow backend.\n"
          ],
          "name": "stderr"
        }
      ]
    },
    {
      "cell_type": "code",
      "source": [],
      "metadata": {
        "id": "d8jb-gg-MJFe"
      },
      "execution_count": null,
      "outputs": []
    },
    {
      "cell_type": "code",
      "metadata": {
        "id": "N5CIEIUq-Dxy"
      },
      "source": [
        "# Ruta raiz esta es la ruta donde se encuentran las carpetas dentro de drive\n",
        "PATH = \"/content/drive/My Drive/Colab Notebooks\"\n",
        "\n",
        "#Esta es la ruta datos de entrada\n",
        "TRAINPATH = PATH + \"/train\"\n",
        "\n",
        "# la carpeta de validación \n",
        "VALIDATIONPATH = PATH + \"/validation\"\n",
        "\n",
        "# la carpeta de test \n",
        "TESTPATH = PATH + \"/test\"\n",
        "\n",
        "# la carpeta de data_set \n",
        "DATA_SET = PATH + \"/data_set\"\n",
        "\n",
        "\n",
        "\n",
        "\n",
        "\n",
        "\n"
      ],
      "execution_count": null,
      "outputs": []
    },
    {
      "cell_type": "code",
      "metadata": {
        "id": "EGdTr_R0-UDg",
        "outputId": "9eba177b-53d7-47fd-faf3-3e6a01b46d0e",
        "colab": {
          "base_uri": "https://localhost:8080/",
          "height": 51
        }
      },
      "source": [
        "# flow_from_directory :  librería de keras para leer las imágenes de carpetas que contienen imágenes.\n",
        "\n",
        "# El directory : debe establecerse en la ruta donde están presentes sus 'n' clases de carpetas.\n",
        "# El target_size es el tamaño de las imágenes de entrada, cada imagen será redimensionada a este tamaño.\n",
        "# color_mode: si la imagen es en blanco y negro o en escala de grises, configure “escala de grises” o si la imagen tiene tres canales de color, configure “rgb”.\n",
        "# batch_size: número de imágenes que se generarán desde el generador por lote.\n",
        "# class_mode: establezca \"binario\" si solo tiene dos clases para predecir, si no está configurado en \"categórico\", en caso de que esté desarrollando un sistema Autoencoder, tanto la entrada como la salida probablemente sean la misma imagen, para este caso a \"entrada\".\n",
        "# shuffle: establezca Verdadero si desea barajar el orden de la imagen que se está produciendo, de lo contrario, configure Falso.\n",
        "# seed: semilla aleatoria para aplicar el aumento aleatorio de la imagen y barajar el orden de la imagen.\n",
        "\n",
        "\n",
        "\n",
        "# create a data generator\n",
        "datagen = ImageDataGenerator()\n",
        "\n",
        "\n",
        "# load and iterate training dataset\n",
        "train_it = datagen.flow_from_directory(TRAINPATH, target_size=(32,32), class_mode = \"categorical\", shuffle = True, batch_size=25)\n",
        "# load and iterate validation dataset\n",
        "val_it = datagen.flow_from_directory(VALIDATIONPATH, target_size=(32,32), class_mode = \"categorical\", shuffle = True, batch_size=25)\n",
        "# load and iterate test dataset\n",
        "# test_it = datagen.flow_from_directory('data/test/', class_mode='binary', batch_size=64)\n",
        "\n",
        "\n",
        "# train_batches = ImageDataGenerator().flow_from_directory(INPATH, target_size=(256,256), class_mode = \"categorical\", shuffle = True, batch_size=25)"
      ],
      "execution_count": null,
      "outputs": [
        {
          "output_type": "stream",
          "text": [
            "Found 7574 images belonging to 2 classes.\n",
            "Found 0 images belonging to 0 classes.\n"
          ],
          "name": "stdout"
        }
      ]
    },
    {
      "cell_type": "code",
      "metadata": {
        "id": "ppe_vZDyHO0Z",
        "outputId": "fbd9f20c-b14a-4eec-8768-3879f380d001",
        "colab": {
          "base_uri": "https://localhost:8080/",
          "height": 476
        }
      },
      "source": [
        "# separo las imagenes en los labels y las imagenes\n",
        "\n",
        "\n",
        "train_images, train_labels = next(train_it)\n",
        "\n",
        "def load_data():\n",
        "  # with open(cifar10_dataset_folder_path + '/data_batch_' + str(batch_id), mode='rb') as file:\n",
        "  #   #note the encoding type is 'Latin1'\n",
        "  #   batch = pickle.load(file, encoding='latin1')\n",
        "\n",
        "  features, labels = next(train_it)\n",
        "\n",
        "  # features = batch['data'].reshape((len(batch['data']), 3, 32, 32)).transpose(0, 2, 3, 1)\n",
        "  # labels = batch['labels']\n",
        "\n",
        "  return features, labels\n",
        "\n",
        "\n",
        "#test_images, test_labels = next(train_batches)\n",
        "\n",
        "#(train_images, train_labels), (test_images, test_labels) = train_batches\n",
        "\n",
        "class_names = ['no_marcados','marcados']\n",
        "\n",
        "#train_images = train_images.reshape((2, 3))\n",
        "\n",
        "\n",
        "# train_images.shape\n",
        "\n",
        "print(train_labels)\n",
        "\n",
        "train_labels = train_labels[:,0:1]\n",
        "\n",
        "train_labels = train_labels.reshape((1, -1))\n",
        "\n",
        "train_labels = train_labels.astype(int)\n",
        "\n",
        "train_labels = train_labels[0]\n",
        "\n",
        "train_labels"
      ],
      "execution_count": null,
      "outputs": [
        {
          "output_type": "stream",
          "text": [
            "[[0. 1.]\n",
            " [1. 0.]\n",
            " [0. 1.]\n",
            " [0. 1.]\n",
            " [0. 1.]\n",
            " [0. 1.]\n",
            " [0. 1.]\n",
            " [0. 1.]\n",
            " [0. 1.]\n",
            " [0. 1.]\n",
            " [0. 1.]\n",
            " [0. 1.]\n",
            " [1. 0.]\n",
            " [0. 1.]\n",
            " [1. 0.]\n",
            " [0. 1.]\n",
            " [0. 1.]\n",
            " [0. 1.]\n",
            " [0. 1.]\n",
            " [0. 1.]\n",
            " [0. 1.]\n",
            " [0. 1.]\n",
            " [0. 1.]\n",
            " [0. 1.]\n",
            " [0. 1.]]\n"
          ],
          "name": "stdout"
        },
        {
          "output_type": "execute_result",
          "data": {
            "text/plain": [
              "array([0, 1, 0, 0, 0, 0, 0, 0, 0, 0, 0, 0, 1, 0, 1, 0, 0, 0, 0, 0, 0, 0,\n",
              "       0, 0, 0])"
            ]
          },
          "metadata": {
            "tags": []
          },
          "execution_count": 5
        }
      ]
    },
    {
      "cell_type": "code",
      "metadata": {
        "id": "K3jphF0m_iIH",
        "outputId": "29f63f72-d404-4cc9-f4ba-9f72001ed09c",
        "colab": {
          "base_uri": "https://localhost:8080/",
          "height": 1000
        }
      },
      "source": [
        "def plots(ims, figsize=(12,6), rows=1, interp=False, titles=None):\n",
        "  # Un objeto de matriz representa una matriz multidimensional y homogénea de elementos de tamaño fijo. \n",
        "  # Un objeto de tipo de datos asociado describe el formato de cada elemento en la matriz (su orden de bytes, cuántos bytes ocupa en la memoria, \n",
        "  # ya sea un número entero, un número de coma flotante u otra cosa, etc.)\n",
        "  \n",
        "  print('test')\n",
        "  print('\\ntype(ims[0]) is np.ndarray #{}'.format(type(ims[0]) is np.ndarray))\n",
        "\n",
        "  if type(ims[0]) is np.ndarray:\n",
        "    ims = np.array(ims).astype(np.uint8)\n",
        "\n",
        "    print('\\nims #{}'.format(ims))\n",
        "\n",
        "    if (ims.shape[-1] != 3):\n",
        "      ims = ims.transpose((0,2,3,1))\n",
        "\n",
        "  f = plt.figure(figsize=figsize)\n",
        "  cols = len(ims) //rows if len(ims) % 2 == 0 else len(ims)//rows + 1\n",
        "  for i in range(len(ims)):\n",
        "    sp = f.add_subplot(rows, cols, i+1)\n",
        "    sp.axis('Off')\n",
        "    if titles is not None:\n",
        "      sp.set_title(titles[i], fontsize=16)\n",
        "    plt.subplot(5,5,i+1)\n",
        "    plt.xticks([])\n",
        "    plt.yticks([])\n",
        "\n",
        "    plt.imshow(ims[i], interpolation=None if interp else 'none')\n",
        "    #plt.imshow(ims[i][:, :, 0], interpolation=None if interp else 'none')\n",
        "    plt.xlabel(titles[i])\n",
        "\n",
        "# llamo alas funcion de plots y mando las imagenes y los labels\n",
        "plots(train_images, titles=train_labels)"
      ],
      "execution_count": null,
      "outputs": [
        {
          "output_type": "stream",
          "text": [
            "test\n",
            "\n",
            "type(ims[0]) is np.ndarray #True\n",
            "\n",
            "ims #[[[[255 255 255]\n",
            "   [255 255 255]\n",
            "   [255 255 255]\n",
            "   ...\n",
            "   [255 255 255]\n",
            "   [254 254 254]\n",
            "   [254 254 254]]\n",
            "\n",
            "  [[255 255 255]\n",
            "   [255 255 255]\n",
            "   [255 255 255]\n",
            "   ...\n",
            "   [255 255 255]\n",
            "   [255 255 255]\n",
            "   [255 255 255]]\n",
            "\n",
            "  [[255 255 255]\n",
            "   [255 255 255]\n",
            "   [255 255 255]\n",
            "   ...\n",
            "   [254 254 254]\n",
            "   [255 255 255]\n",
            "   [255 255 255]]\n",
            "\n",
            "  ...\n",
            "\n",
            "  [[255 255 255]\n",
            "   [255 255 255]\n",
            "   [255 255 255]\n",
            "   ...\n",
            "   [ 14  14  14]\n",
            "   [241 241 241]\n",
            "   [246 246 246]]\n",
            "\n",
            "  [[255 255 255]\n",
            "   [255 255 255]\n",
            "   [255 255 255]\n",
            "   ...\n",
            "   [255 255 255]\n",
            "   [224 224 224]\n",
            "   [255 255 255]]\n",
            "\n",
            "  [[255 255 255]\n",
            "   [255 255 255]\n",
            "   [255 255 255]\n",
            "   ...\n",
            "   [255 255 255]\n",
            "   [255 255 255]\n",
            "   [245 245 245]]]\n",
            "\n",
            "\n",
            " [[[255 255 255]\n",
            "   [255 255 255]\n",
            "   [254 254 254]\n",
            "   ...\n",
            "   [254 254 254]\n",
            "   [254 254 254]\n",
            "   [254 254 254]]\n",
            "\n",
            "  [[255 255 255]\n",
            "   [255 255 255]\n",
            "   [255 255 255]\n",
            "   ...\n",
            "   [252 252 252]\n",
            "   [253 253 253]\n",
            "   [254 254 254]]\n",
            "\n",
            "  [[253 253 253]\n",
            "   [253 253 253]\n",
            "   [254 254 254]\n",
            "   ...\n",
            "   [255 255 255]\n",
            "   [254 254 254]\n",
            "   [253 253 253]]\n",
            "\n",
            "  ...\n",
            "\n",
            "  [[253 253 253]\n",
            "   [253 253 253]\n",
            "   [253 253 253]\n",
            "   ...\n",
            "   [250 250 250]\n",
            "   [249 249 249]\n",
            "   [247 247 247]]\n",
            "\n",
            "  [[255 255 255]\n",
            "   [255 255 255]\n",
            "   [255 255 255]\n",
            "   ...\n",
            "   [255 255 255]\n",
            "   [255 255 255]\n",
            "   [255 255 255]]\n",
            "\n",
            "  [[255 255 255]\n",
            "   [255 255 255]\n",
            "   [255 255 255]\n",
            "   ...\n",
            "   [252 252 252]\n",
            "   [253 253 253]\n",
            "   [254 254 254]]]\n",
            "\n",
            "\n",
            " [[[255 255 255]\n",
            "   [255 255 255]\n",
            "   [255 255 255]\n",
            "   ...\n",
            "   [251 251 251]\n",
            "   [248 248 248]\n",
            "   [245 245 245]]\n",
            "\n",
            "  [[255 255 255]\n",
            "   [255 255 255]\n",
            "   [255 255 255]\n",
            "   ...\n",
            "   [252 252 252]\n",
            "   [252 252 252]\n",
            "   [252 252 252]]\n",
            "\n",
            "  [[255 255 255]\n",
            "   [255 255 255]\n",
            "   [255 255 255]\n",
            "   ...\n",
            "   [252 252 252]\n",
            "   [254 254 254]\n",
            "   [255 255 255]]\n",
            "\n",
            "  ...\n",
            "\n",
            "  [[254 254 254]\n",
            "   [255 255 255]\n",
            "   [255 255 255]\n",
            "   ...\n",
            "   [231 231 231]\n",
            "   [247 247 247]\n",
            "   [251 251 251]]\n",
            "\n",
            "  [[254 254 254]\n",
            "   [255 255 255]\n",
            "   [255 255 255]\n",
            "   ...\n",
            "   [239 239 239]\n",
            "   [255 255 255]\n",
            "   [249 249 249]]\n",
            "\n",
            "  [[254 254 254]\n",
            "   [255 255 255]\n",
            "   [255 255 255]\n",
            "   ...\n",
            "   [253 253 253]\n",
            "   [255 255 255]\n",
            "   [247 247 247]]]\n",
            "\n",
            "\n",
            " ...\n",
            "\n",
            "\n",
            " [[[255 255 255]\n",
            "   [255 255 255]\n",
            "   [255 255 255]\n",
            "   ...\n",
            "   [253 253 253]\n",
            "   [249 249 249]\n",
            "   [248 248 248]]\n",
            "\n",
            "  [[255 255 255]\n",
            "   [255 255 255]\n",
            "   [255 255 255]\n",
            "   ...\n",
            "   [255 255 255]\n",
            "   [255 255 255]\n",
            "   [255 255 255]]\n",
            "\n",
            "  [[253 253 253]\n",
            "   [254 254 254]\n",
            "   [255 255 255]\n",
            "   ...\n",
            "   [255 255 255]\n",
            "   [255 255 255]\n",
            "   [248 248 248]]\n",
            "\n",
            "  ...\n",
            "\n",
            "  [[255 255 255]\n",
            "   [254 254 254]\n",
            "   [252 252 252]\n",
            "   ...\n",
            "   [254 254 254]\n",
            "   [255 255 255]\n",
            "   [255 255 255]]\n",
            "\n",
            "  [[255 255 255]\n",
            "   [254 254 254]\n",
            "   [252 252 252]\n",
            "   ...\n",
            "   [255 255 255]\n",
            "   [255 255 255]\n",
            "   [255 255 255]]\n",
            "\n",
            "  [[255 255 255]\n",
            "   [255 255 255]\n",
            "   [253 253 253]\n",
            "   ...\n",
            "   [255 255 255]\n",
            "   [255 255 255]\n",
            "   [255 255 255]]]\n",
            "\n",
            "\n",
            " [[[255 255 255]\n",
            "   [255 255 255]\n",
            "   [255 255 255]\n",
            "   ...\n",
            "   [255 255 255]\n",
            "   [255 255 255]\n",
            "   [255 255 255]]\n",
            "\n",
            "  [[254 254 254]\n",
            "   [254 254 254]\n",
            "   [254 254 254]\n",
            "   ...\n",
            "   [255 255 255]\n",
            "   [255 255 255]\n",
            "   [255 255 255]]\n",
            "\n",
            "  [[254 254 254]\n",
            "   [254 254 254]\n",
            "   [254 254 254]\n",
            "   ...\n",
            "   [255 255 255]\n",
            "   [255 255 255]\n",
            "   [255 255 255]]\n",
            "\n",
            "  ...\n",
            "\n",
            "  [[255 255 255]\n",
            "   [255 255 255]\n",
            "   [255 255 255]\n",
            "   ...\n",
            "   [255 255 255]\n",
            "   [255 255 255]\n",
            "   [255 255 255]]\n",
            "\n",
            "  [[255 255 255]\n",
            "   [255 255 255]\n",
            "   [255 255 255]\n",
            "   ...\n",
            "   [251 251 251]\n",
            "   [251 251 251]\n",
            "   [254 254 254]]\n",
            "\n",
            "  [[255 255 255]\n",
            "   [255 255 255]\n",
            "   [255 255 255]\n",
            "   ...\n",
            "   [251 251 251]\n",
            "   [255 255 255]\n",
            "   [250 250 250]]]\n",
            "\n",
            "\n",
            " [[[255 255 255]\n",
            "   [255 255 255]\n",
            "   [255 255 255]\n",
            "   ...\n",
            "   [254 254 254]\n",
            "   [255 255 255]\n",
            "   [255 255 255]]\n",
            "\n",
            "  [[255 255 255]\n",
            "   [255 255 255]\n",
            "   [255 255 255]\n",
            "   ...\n",
            "   [255 255 255]\n",
            "   [255 255 255]\n",
            "   [255 255 255]]\n",
            "\n",
            "  [[255 255 255]\n",
            "   [255 255 255]\n",
            "   [255 255 255]\n",
            "   ...\n",
            "   [255 255 255]\n",
            "   [255 255 255]\n",
            "   [255 255 255]]\n",
            "\n",
            "  ...\n",
            "\n",
            "  [[253 253 253]\n",
            "   [253 253 253]\n",
            "   [252 252 252]\n",
            "   ...\n",
            "   [ 14  14  14]\n",
            "   [239 239 239]\n",
            "   [252 252 252]]\n",
            "\n",
            "  [[255 255 255]\n",
            "   [255 255 255]\n",
            "   [255 255 255]\n",
            "   ...\n",
            "   [255 255 255]\n",
            "   [240 240 240]\n",
            "   [255 255 255]]\n",
            "\n",
            "  [[255 255 255]\n",
            "   [255 255 255]\n",
            "   [255 255 255]\n",
            "   ...\n",
            "   [255 255 255]\n",
            "   [255 255 255]\n",
            "   [245 245 245]]]]\n"
          ],
          "name": "stdout"
        },
        {
          "output_type": "display_data",
          "data": {
            "image/png": "[encoded data removed]",
            "text/plain": [
              "<Figure size 864x432 with 25 Axes>"
            ]
          },
          "metadata": {
            "tags": []
          }
        }
      ]
    },
    {
      "cell_type": "code",
      "metadata": {
        "id": "HCakXaixHchX",
        "outputId": "60c39f84-bb11-4aa1-c59a-bb2dd43c3084",
        "colab": {
          "base_uri": "https://localhost:8080/",
          "height": 537
        }
      },
      "source": [
        "import numpy as np\n",
        "from PIL import Image\n",
        "from io import BytesIO\n",
        "from PIL import ImageEnhance\n",
        "from PIL import Image as pil_image\n",
        "import pickle\n",
        "\n",
        "\n",
        "\n",
        "\n",
        "\n",
        "\n",
        "def load_label_names():\n",
        "  return ['no_marcados','marcados']\n",
        "\n",
        "\n",
        "\n",
        "\n",
        "def display_stats(batch_id, sample_id):\n",
        "  features, labels = load_data()\n",
        "\n",
        "  print('Cantidad de imagenes {}. batch_id :  {}  sample_id : {}.'.format(len(features), batch_id, sample_id))\n",
        "\n",
        "  print('0 <= sample_id {}.'.format((0 <= sample_id)))\n",
        "\n",
        "  if not (0 <= sample_id < len(features)):\n",
        "    print('{} samples in batch {}. {} is out of range.'.format(len(features), batch_id, sample_id))\n",
        "    return None\n",
        "\n",
        "  print('\\nStats of batch #{}'.format(batch_id))\n",
        "  print('# of Samples: {}\\n'.format(len(features)))\n",
        "\n",
        "  label_names = load_label_names()\n",
        "\n",
        "\n",
        "  labels = labels[:,0:1]\n",
        "\n",
        "  labels = labels.reshape((1, -1))\n",
        "\n",
        "  labels = labels.astype(int)\n",
        "\n",
        "  labels = labels[0]\n",
        "  \n",
        "  label_counts = dict(zip(*np.unique(labels, return_counts = True)))\n",
        "\n",
        "\n",
        "\n",
        "  print('label_counts {}'. format(label_counts))\n",
        "\n",
        "  print(label_names)\n",
        "\n",
        "  for key, value in label_counts.items():\n",
        "    print('Label Counts of [{}]({}) : {}'. format(key, label_names[key].upper(), value))\n",
        "\n",
        "  sample_image = features[sample_id]\n",
        "  sample_label = labels[sample_id]\n",
        "\n",
        "  print('\\nExample of Image {} : ' . format(sample_id))\n",
        "  print('Image - Min Value: {} Max Value : {}'.format(sample_image.min(), sample_image.max()))\n",
        "  print('Image - Shape: {}'.format(sample_image.shape))\n",
        "  print('Label - Label Id: {} Name : {}'.format(sample_label, label_names[sample_label]))\n",
        "\n",
        "  plt.imshow(sample_image)\n",
        "\n",
        "\n",
        "%matplotlib inline\n",
        "%config InlineBackend.figure_format = 'retina'\n",
        "\n",
        "import numpy as np\n",
        "\n",
        "# explore the dataset\n",
        "batch_id = 3\n",
        "sample_id = 24\n",
        "display_stats(batch_id, sample_id)\n",
        "\n",
        "\n"
      ],
      "execution_count": null,
      "outputs": [
        {
          "output_type": "stream",
          "text": [
            "Clipping input data to the valid range for imshow with RGB data ([0..1] for floats or [0..255] for integers).\n"
          ],
          "name": "stderr"
        },
        {
          "output_type": "stream",
          "text": [
            "Cantidad de imagenes 25. batch_id :  3  sample_id : 24.\n",
            "0 <= sample_id True.\n",
            "\n",
            "Stats of batch #3\n",
            "# of Samples: 25\n",
            "\n",
            "label_counts {0: 17, 1: 8}\n",
            "['no_marcados', 'marcados']\n",
            "Label Counts of [0](NO_MARCADOS) : 17\n",
            "Label Counts of [1](MARCADOS) : 8\n",
            "\n",
            "Example of Image 24 : \n",
            "Image - Min Value: 0.0 Max Value : 255.0\n",
            "Image - Shape: (32, 32, 3)\n",
            "Label - Label Id: 0 Name : no_marcados\n"
          ],
          "name": "stdout"
        },
        {
          "output_type": "display_data",
          "data": {
            "image/png": "[encoded data removed]",
            "text/plain": [
              "<Figure size 432x288 with 1 Axes>"
            ]
          },
          "metadata": {
            "tags": [],
            "image/png": {
              "width": 251,
              "height": 248
            }
          }
        }
      ]
    },
    {
      "cell_type": "code",
      "metadata": {
        "id": "WShQnjoxD95_"
      },
      "source": [
        "def normalize(x):\n",
        "  min_val = np.min(x)\n",
        "  max_val = np.max(x)\n",
        "  x = (x-min_val) / (max_val-min_val)\n",
        "  return x"
      ],
      "execution_count": null,
      "outputs": []
    },
    {
      "cell_type": "code",
      "metadata": {
        "id": "4GWe68KSEDQT"
      },
      "source": [
        "def one_hot_encode(x):\n",
        "\n",
        "  print(x)\n",
        "\n",
        "  encoded = np.zeros((len(x), 10))\n",
        "\n",
        "  for ids, val in enumerate(x):\n",
        "    encoded[ids][val] = 1\n",
        "\n",
        "  return encoded"
      ],
      "execution_count": null,
      "outputs": []
    },
    {
      "cell_type": "code",
      "metadata": {
        "id": "P8JRRQ66EG76"
      },
      "source": [
        "def _preprocess_and_save(normalize, one_hot_encode, features, labels, filename):\n",
        "\n",
        "  # print('features.shape {}'. format(features.shape))\n",
        "\n",
        "\n",
        "  features = normalize(features)\n",
        "\n",
        "\n",
        "  # print('features2.shape {}'. format(features.shape))\n",
        "\n",
        "  labels = one_hot_encode(labels)\n",
        "\n",
        "  pickle.dump((features, labels), open(filename, 'wb'))\n",
        "\n",
        "def preprocess_and_save_data(normalize, one_hot_encode):\n",
        "  n_batches = 5\n",
        "  valid_features =[]\n",
        "  valid_labels = []\n",
        "\n",
        "  for batch_i in range(1, n_batches + 1):\n",
        "    features, labels = load_data()\n",
        "\n",
        "    labels = labels[:,0:1]\n",
        "\n",
        "    labels = labels.reshape((1, -1))\n",
        "\n",
        "    labels = labels.astype(int)\n",
        "\n",
        "    labels = labels[0]\n",
        "\n",
        "\n",
        "\n",
        "\n",
        "    index_of_validation = int(len(features) * 0.1)\n",
        "\n",
        "    _preprocess_and_save(normalize, one_hot_encode,\n",
        "                         features[:-index_of_validation], labels[:-index_of_validation],\n",
        "                         DATA_SET + '/preprocess_batch_' + str(batch_i) + '.p')\n",
        "    \n",
        "    valid_features.extend(features[-index_of_validation:])\n",
        "    valid_labels.extend(labels[-index_of_validation:])\n",
        "\n",
        "    # print(valid_features)\n",
        "\n",
        "    #print('valid_features.shape {}'. format(valid_features.shape))\n",
        "\n",
        "  _preprocess_and_save(normalize, one_hot_encode,\n",
        "                        np.array(valid_features), np.array(valid_labels),\n",
        "                        DATA_SET + '/preprocess_validation.p')\n",
        "  \n",
        "  # print(DATA_SET + '/test_batch.pickle')\n",
        "\n",
        "  # with open(DATA_SET + '/test_batch.pickle', mode='rb') as file:\n",
        "  #   batch = pickle.load(file, encoding='latin1')\n",
        "\n",
        "  # test_features = batch['data'].reshape((len(batch['data']), 3, 32, 32)).transpose(0, 2, 3, 1)\n",
        "  # test_labels = batch['labels']\n",
        "\n",
        "  test_features, test_labels = next(train_it)\n",
        "\n",
        "  test_labels = test_labels[:,0:1]\n",
        "\n",
        "  test_labels = test_labels.reshape((1, -1))\n",
        "\n",
        "  test_labels = test_labels.astype(int)\n",
        "\n",
        "  test_labels = test_labels[0]\n",
        "\n",
        "  # print(test_features.shape)\n",
        "  # print(labels)\n",
        "\n",
        "  _preprocess_and_save(normalize, one_hot_encode,\n",
        "                        np.array(test_features), np.array(test_labels),\n",
        "                        DATA_SET + '/preprocess_training.p')"
      ],
      "execution_count": null,
      "outputs": []
    },
    {
      "cell_type": "code",
      "metadata": {
        "id": "U6Fsz5raOYoj"
      },
      "source": [
        "# #Esto permite crear el archivo pickle\n",
        "\n",
        "\n",
        "# pickle_out = open(DATA_SET + \"/preprocess_validation.p\",\"wb\")\n",
        "# example_dict = {}\n",
        "\n",
        "# pickle.dump(example_dict, pickle_out)\n",
        "# pickle_out.close()\n",
        "\n"
      ],
      "execution_count": null,
      "outputs": []
    },
    {
      "cell_type": "code",
      "metadata": {
        "id": "Gh1g8vWZEK0D",
        "outputId": "9c0876ef-bae0-4a7e-f3e5-62b2a6d7f339",
        "colab": {
          "base_uri": "https://localhost:8080/",
          "height": 136
        }
      },
      "source": [
        "preprocess_and_save_data(normalize, one_hot_encode)"
      ],
      "execution_count": null,
      "outputs": [
        {
          "output_type": "stream",
          "text": [
            "[1 1 1 0 0 0 0 0 1 0 0 0 0 0 0 0 0 0 0 0 0 0 1]\n",
            "[0 0 0 0 0 0 0 0 1 0 0 0 0 0 0 1 0 1 0 0 1 0 0]\n",
            "[0 0 0 0 0 0 0 0 1 1 0 0 0 0 0 1 0 0 0 1 0 1 0]\n",
            "[0 0 0 0 1 0 0 1 0 0 0 0 0 0 0 0 0 0 0 0 0 0 0]\n",
            "[0 0 0 0 0 0 0 0 0 0 0 1 0 0 1 0 0 0 0 0 0 1 0]\n",
            "[0 1 0 0 0 0 0 0 0 1]\n",
            "[0 1 1 0 1 0 0 0 1 0 0 0 1 0 0 0 0 1 0 0 0 0 0 0 0]\n"
          ],
          "name": "stdout"
        }
      ]
    },
    {
      "cell_type": "code",
      "metadata": {
        "id": "T8Jd40_-Utwr",
        "outputId": "7046e4b3-3eb9-4541-9855-f19d14d354b0",
        "colab": {
          "base_uri": "https://localhost:8080/",
          "height": 204
        }
      },
      "source": [
        "import pickle\n",
        "\n",
        "valid_features, valid_labels = pickle.load(open(DATA_SET + '/preprocess_validation.p', mode='rb'))\n",
        "\n",
        "print(valid_features.shape)\n",
        "print(valid_labels)"
      ],
      "execution_count": null,
      "outputs": [
        {
          "output_type": "stream",
          "text": [
            "(10, 32, 32, 3)\n",
            "[[1. 0. 0. 0. 0. 0. 0. 0. 0. 0.]\n",
            " [1. 0. 0. 0. 0. 0. 0. 0. 0. 0.]\n",
            " [1. 0. 0. 0. 0. 0. 0. 0. 0. 0.]\n",
            " [0. 1. 0. 0. 0. 0. 0. 0. 0. 0.]\n",
            " [1. 0. 0. 0. 0. 0. 0. 0. 0. 0.]\n",
            " [1. 0. 0. 0. 0. 0. 0. 0. 0. 0.]\n",
            " [1. 0. 0. 0. 0. 0. 0. 0. 0. 0.]\n",
            " [0. 1. 0. 0. 0. 0. 0. 0. 0. 0.]\n",
            " [1. 0. 0. 0. 0. 0. 0. 0. 0. 0.]\n",
            " [0. 1. 0. 0. 0. 0. 0. 0. 0. 0.]]\n"
          ],
          "name": "stdout"
        }
      ]
    },
    {
      "cell_type": "code",
      "metadata": {
        "id": "3Z1u6u-oaFQw"
      },
      "source": [
        "import tensorflow as tf\n",
        "# tf.reset_default_graph()\n",
        "\n",
        "from tensorflow.python.framework import ops\n",
        "ops.reset_default_graph()\n",
        "\n",
        "\n",
        "x = tf.placeholder(tf.float32, shape=(None, 32, 32, 3), name='input_x')\n",
        "y = tf.placeholder(tf.float32, shape=(None, 10), name='output_y')\n",
        "keep_prob = tf.placeholder(tf.float32, name='keep_prob')"
      ],
      "execution_count": null,
      "outputs": []
    },
    {
      "cell_type": "code",
      "metadata": {
        "id": "U36HaUDcaPvn"
      },
      "source": [
        "def conv_net(x, keep_prob):\n",
        "\n",
        "  conv1_filter = tf.Variable(tf.truncated_normal(shape=[3, 3, 3, 64], mean=0, stddev=0.08))\n",
        "  conv2_filter = tf.Variable(tf.truncated_normal(shape=[3, 3, 64, 128], mean=0, stddev=0.08))\n",
        "  conv3_filter = tf.Variable(tf.truncated_normal(shape=[5, 5, 128, 256], mean=0, stddev=0.08))\n",
        "  conv4_filter = tf.Variable(tf.truncated_normal(shape=[5, 5, 256, 512], mean=0, stddev=0.08))\n",
        "\n",
        "  # 1, 2\n",
        "  conv1 = tf.nn.conv2d(x, conv1_filter, strides=[1, 1, 1, 1], padding='SAME')\n",
        "  conv1 = tf.nn.relu(conv1)\n",
        "  conv1_pool = tf.nn.max_pool(conv1, ksize=[1, 2, 2, 1], strides=[1, 2, 2, 1], padding='SAME')\n",
        "  conv1_bn = tf.layers.batch_normalization(conv1_pool)\n",
        "\n",
        "  # 3, 4\n",
        "  conv2 = tf.nn.conv2d(conv1_bn, conv2_filter, strides=[1, 1, 1, 1], padding='SAME')\n",
        "  conv2 = tf.nn.relu(conv2)\n",
        "  conv2_pool = tf.nn.max_pool(conv2, ksize=[1, 2, 2, 1], strides=[1, 2, 2, 1], padding='SAME')\n",
        "  conv2_bn = tf.layers.batch_normalization(conv2_pool)\n",
        "\n",
        "  # 5, 6\n",
        "  conv3 = tf.nn.conv2d(conv2_bn, conv3_filter, strides=[1, 1, 1, 1], padding='SAME')\n",
        "  conv3 = tf.nn.relu(conv3)\n",
        "  conv3_pool = tf.nn.max_pool(conv3, ksize=[1, 2, 2, 1], strides=[1, 2, 2, 1], padding='SAME')\n",
        "  conv3_bn = tf.layers.batch_normalization(conv3_pool)\n",
        "\n",
        "  # 7, 8\n",
        "  conv4 = tf.nn.conv2d(conv3_bn, conv4_filter, strides=[1, 1, 1, 1], padding='SAME')\n",
        "  conv4 = tf.nn.relu(conv4)\n",
        "  conv4_pool = tf.nn.max_pool(conv4, ksize=[1, 2, 2, 1], strides=[1, 2, 2, 1], padding='SAME')\n",
        "  conv4_bn = tf.layers.batch_normalization(conv4_pool)\n",
        "\n",
        "  # 9\n",
        "  flat = tf.contrib.layers.flatten(conv4_bn)\n",
        "\n",
        "  # 10\n",
        "  full1 = tf.contrib.layers.fully_connected(inputs=flat, num_outputs=128, activation_fn=tf.nn.relu)\n",
        "  full1 = tf.nn.dropout(full1, keep_prob)\n",
        "  full1 = tf.layers.batch_normalization(full1)\n",
        "\n",
        "  # 11\n",
        "  full2 = tf.contrib.layers.fully_connected(inputs=full1, num_outputs=256, activation_fn=tf.nn.relu)\n",
        "  full2 = tf.nn.dropout(full2, keep_prob)\n",
        "  full2 = tf.layers.batch_normalization(full2)\n",
        "\n",
        "  # 12\n",
        "  full3 = tf.contrib.layers.fully_connected(inputs=full2, num_outputs=512, activation_fn=tf.nn.relu)\n",
        "  full3 = tf.nn.dropout(full3, keep_prob)\n",
        "  full3 = tf.layers.batch_normalization(full3)\n",
        "\n",
        "  # 13\n",
        "  full4 = tf.contrib.layers.fully_connected(inputs=full3, num_outputs=1024, activation_fn=tf.nn.relu)\n",
        "  full4 = tf.nn.dropout(full4, keep_prob)\n",
        "  full4 = tf.layers.batch_normalization(full4)\n",
        "\n",
        "  # 14\n",
        "  out = tf.contrib.layers.fully_connected(inputs=full3, num_outputs=10, activation_fn=None)\n",
        "\n",
        "  return out"
      ],
      "execution_count": null,
      "outputs": []
    },
    {
      "cell_type": "code",
      "metadata": {
        "id": "46VbgJvvaV_p"
      },
      "source": [
        "epochs = 5\n",
        "batch_size = 128\n",
        "keep_probability = 0.7\n",
        "learning_rate = 0.001"
      ],
      "execution_count": null,
      "outputs": []
    },
    {
      "cell_type": "code",
      "metadata": {
        "id": "8lKZFSRSaaGe"
      },
      "source": [
        "logits = conv_net(x, keep_prob)\n",
        "model = tf.identity(logits, name='logits')\n",
        "\n",
        "cost = tf.reduce_mean(tf.nn.softmax_cross_entropy_with_logits(logits=logits, labels=y))\n",
        "optimizer = tf.train.AdamOptimizer(learning_rate=learning_rate).minimize(cost)\n",
        "\n",
        "correct_pred = tf.equal(tf.argmax(logits, 1), tf.argmax(y, 1))\n",
        "accuracy = tf.reduce_mean(tf.cast(correct_pred, tf.float32), name='accuracy')"
      ],
      "execution_count": null,
      "outputs": []
    },
    {
      "cell_type": "code",
      "metadata": {
        "id": "B9BocF-vbk69"
      },
      "source": [
        "def train_neural_network(session, optimizer, keep_probability, feature_batch, label_batch):\n",
        "  session.run(optimizer,\n",
        "              feed_dict={\n",
        "                  x: feature_batch,\n",
        "                  y: label_batch,\n",
        "                  keep_prob: keep_probability\n",
        "              })"
      ],
      "execution_count": null,
      "outputs": []
    },
    {
      "cell_type": "code",
      "metadata": {
        "id": "dPcLafMWbpUu"
      },
      "source": [
        "def print_stats(session, feature_batch, label_batch, cost, accuracy):\n",
        "  loss = sess.run(cost,\n",
        "                  feed_dict={\n",
        "                    x: feature_batch,\n",
        "                    y: label_batch,\n",
        "                    keep_prob: 1.\n",
        "                  })\n",
        "  \n",
        "  valid_acc = sess.run(accuracy,\n",
        "                  feed_dict={\n",
        "                    x: valid_features,\n",
        "                    y: valid_labels,\n",
        "                    keep_prob: 1.\n",
        "                  })\n",
        "  \n",
        "  print('Loss : {:>10.4f} Validation Accuracy: {:.6f}'.format(loss, valid_acc))"
      ],
      "execution_count": null,
      "outputs": []
    },
    {
      "cell_type": "code",
      "metadata": {
        "id": "t-yZ_QRKbqar"
      },
      "source": [
        "def batch_features_labels(features, labels, batch_size):\n",
        "\n",
        "  for start in range(0, len(features), batch_size):\n",
        "    end = min(start + batch_size, len(features))\n",
        "    yield features[start:end], labels[start:end]\n",
        "\n",
        "def load_preprocess_training_batch(batch_id, batch_size):\n",
        "  filename = 'preprocess_batch_' + str(batch_id) + '.p'\n",
        "  features, labels = pickle.load(open(filename, mode='rb'))\n",
        "  print(features.shape)\n",
        "\n",
        "\n",
        "\n",
        "  return batch_features_labels(features, labels, batch_size)"
      ],
      "execution_count": null,
      "outputs": []
    },
    {
      "cell_type": "code",
      "metadata": {
        "id": "qnrTOtELbvBk",
        "outputId": "0c08ce84-4244-46de-85c4-fee12cc8f32c",
        "colab": {
          "base_uri": "https://localhost:8080/",
          "height": 1000
        }
      },
      "source": [
        "save_model_path = DATA_SET + '/image_classification'\n",
        "\n",
        "print('Training...')\n",
        "\n",
        "with tf.Session() as sess:\n",
        "  #Initializing the variables\n",
        "  sess.run(tf.global_variables_initializer())\n",
        "\n",
        "  #training cycle\n",
        "  for epoch in range(epochs):\n",
        "    #loop over all batches\n",
        "    n_batches = 5\n",
        "    for batch_i in range(1, n_batches + 1):\n",
        "      for batch_features, batch_labels in load_preprocess_training_batch(batch_i, batch_size):\n",
        "        print(\"batch_features.shape\")\n",
        "        #print(batch_labels)\n",
        "        #train_neural_network(sess, optimizer, keep_probability, batch_features, batch_labels)\n",
        "\n",
        "      print(batch_i)\n",
        "      # for batch_features, batch_labels in load_preprocess_training_batch(batch_i, batch_size):\n",
        "      #   train_neural_network(sess, optimizer, keep_probability, batch_features, batch_labels)\n",
        "      \n",
        "      # print('Epoch {:>2}, CIFAR-10 Batch {}: ' . format(epoch + 1, batch_i), end='')\n",
        "      # print_stats(sess, batch_features, batch_labels, cost, accuracy)\n",
        "\n",
        "  #save Model\n",
        "  # saver = tf.train.Saver()\n",
        "  # save_path = saver.save(sess, save_model_path)"
      ],
      "execution_count": null,
      "outputs": [
        {
          "output_type": "stream",
          "text": [
            "Training...\n",
            "(23, 256, 256, 3)\n",
            "batch_features.shape\n",
            "1\n",
            "(23, 256, 256, 3)\n",
            "batch_features.shape\n",
            "2\n",
            "(23, 256, 256, 3)\n",
            "batch_features.shape\n",
            "3\n",
            "(23, 256, 256, 3)\n",
            "batch_features.shape\n",
            "4\n",
            "(23, 256, 256, 3)\n",
            "batch_features.shape\n",
            "5\n",
            "(23, 256, 256, 3)\n",
            "batch_features.shape\n",
            "1\n",
            "(23, 256, 256, 3)\n",
            "batch_features.shape\n",
            "2\n",
            "(23, 256, 256, 3)\n",
            "batch_features.shape\n",
            "3\n",
            "(23, 256, 256, 3)\n",
            "batch_features.shape\n",
            "4\n",
            "(23, 256, 256, 3)\n",
            "batch_features.shape\n",
            "5\n",
            "(23, 256, 256, 3)\n",
            "batch_features.shape\n",
            "1\n",
            "(23, 256, 256, 3)\n",
            "batch_features.shape\n",
            "2\n",
            "(23, 256, 256, 3)\n",
            "batch_features.shape\n",
            "3\n",
            "(23, 256, 256, 3)\n",
            "batch_features.shape\n",
            "4\n",
            "(23, 256, 256, 3)\n",
            "batch_features.shape\n",
            "5\n",
            "(23, 256, 256, 3)\n",
            "batch_features.shape\n",
            "1\n",
            "(23, 256, 256, 3)\n",
            "batch_features.shape\n",
            "2\n",
            "(23, 256, 256, 3)\n",
            "batch_features.shape\n",
            "3\n",
            "(23, 256, 256, 3)\n",
            "batch_features.shape\n",
            "4\n",
            "(23, 256, 256, 3)\n",
            "batch_features.shape\n",
            "5\n",
            "(23, 256, 256, 3)\n",
            "batch_features.shape\n",
            "1\n",
            "(23, 256, 256, 3)\n",
            "batch_features.shape\n",
            "2\n",
            "(23, 256, 256, 3)\n",
            "batch_features.shape\n",
            "3\n",
            "(23, 256, 256, 3)\n",
            "batch_features.shape\n",
            "4\n",
            "(23, 256, 256, 3)\n",
            "batch_features.shape\n",
            "5\n"
          ],
          "name": "stdout"
        }
      ]
    },
    {
      "cell_type": "code",
      "metadata": {
        "id": "9XueQTtYVqAm",
        "outputId": "27383bf2-afe3-4c9a-d14c-edffb38485e4",
        "colab": {
          "base_uri": "https://localhost:8080/",
          "height": 286
        }
      },
      "source": [
        "plt.figure()\n",
        "plt.imshow(train_images[0])\n",
        "plt.colorbar()\n",
        "plt.grid(False)\n",
        "plt.show()"
      ],
      "execution_count": null,
      "outputs": [
        {
          "output_type": "stream",
          "text": [
            "Clipping input data to the valid range for imshow with RGB data ([0..1] for floats or [0..255] for integers).\n"
          ],
          "name": "stderr"
        },
        {
          "output_type": "display_data",
          "data": {
            "image/png": "[encoded data removed]",
            "text/plain": [
              "<Figure size 432x288 with 2 Axes>"
            ]
          },
          "metadata": {
            "tags": [],
            "image/png": {
              "width": 302,
              "height": 252
            }
          }
        }
      ]
    },
    {
      "cell_type": "code",
      "metadata": {
        "id": "rHmCQszCa82M",
        "outputId": "27139b5c-3966-48f7-af49-49b01b9e0efc",
        "colab": {
          "base_uri": "https://localhost:8080/",
          "height": 1000
        }
      },
      "source": [
        "train_images = train_images / 225.0\n",
        "\n",
        "#test_images = test_images / 225.0\n",
        "\n",
        "plt.figure(figsize=(10, 10))\n",
        "\n",
        "for i in range(25):\n",
        "  plt.subplot(5,5,i+1)\n",
        "  plt.xticks([])\n",
        "  plt.yticks([])\n",
        "  plt.grid(False)\n",
        "  plt.imshow(train_images[i], cmap=plt.cm.binary)\n",
        "  plt.xlabel(class_names[train_labels[i]])\n",
        "\n",
        "\n",
        "\n",
        "plt.show()"
      ],
      "execution_count": null,
      "outputs": [
        {
          "output_type": "stream",
          "text": [
            "Clipping input data to the valid range for imshow with RGB data ([0..1] for floats or [0..255] for integers).\n",
            "Clipping input data to the valid range for imshow with RGB data ([0..1] for floats or [0..255] for integers).\n",
            "Clipping input data to the valid range for imshow with RGB data ([0..1] for floats or [0..255] for integers).\n",
            "Clipping input data to the valid range for imshow with RGB data ([0..1] for floats or [0..255] for integers).\n",
            "Clipping input data to the valid range for imshow with RGB data ([0..1] for floats or [0..255] for integers).\n",
            "Clipping input data to the valid range for imshow with RGB data ([0..1] for floats or [0..255] for integers).\n",
            "Clipping input data to the valid range for imshow with RGB data ([0..1] for floats or [0..255] for integers).\n",
            "Clipping input data to the valid range for imshow with RGB data ([0..1] for floats or [0..255] for integers).\n",
            "Clipping input data to the valid range for imshow with RGB data ([0..1] for floats or [0..255] for integers).\n",
            "Clipping input data to the valid range for imshow with RGB data ([0..1] for floats or [0..255] for integers).\n",
            "Clipping input data to the valid range for imshow with RGB data ([0..1] for floats or [0..255] for integers).\n",
            "Clipping input data to the valid range for imshow with RGB data ([0..1] for floats or [0..255] for integers).\n",
            "Clipping input data to the valid range for imshow with RGB data ([0..1] for floats or [0..255] for integers).\n",
            "Clipping input data to the valid range for imshow with RGB data ([0..1] for floats or [0..255] for integers).\n",
            "Clipping input data to the valid range for imshow with RGB data ([0..1] for floats or [0..255] for integers).\n",
            "Clipping input data to the valid range for imshow with RGB data ([0..1] for floats or [0..255] for integers).\n",
            "Clipping input data to the valid range for imshow with RGB data ([0..1] for floats or [0..255] for integers).\n",
            "Clipping input data to the valid range for imshow with RGB data ([0..1] for floats or [0..255] for integers).\n",
            "Clipping input data to the valid range for imshow with RGB data ([0..1] for floats or [0..255] for integers).\n",
            "Clipping input data to the valid range for imshow with RGB data ([0..1] for floats or [0..255] for integers).\n",
            "Clipping input data to the valid range for imshow with RGB data ([0..1] for floats or [0..255] for integers).\n",
            "Clipping input data to the valid range for imshow with RGB data ([0..1] for floats or [0..255] for integers).\n",
            "Clipping input data to the valid range for imshow with RGB data ([0..1] for floats or [0..255] for integers).\n",
            "Clipping input data to the valid range for imshow with RGB data ([0..1] for floats or [0..255] for integers).\n",
            "Clipping input data to the valid range for imshow with RGB data ([0..1] for floats or [0..255] for integers).\n"
          ],
          "name": "stderr"
        },
        {
          "output_type": "display_data",
          "data": {
            "image/png": "[encoded data removed]",
            "text/plain": [
              "<Figure size 720x720 with 25 Axes>"
            ]
          },
          "metadata": {
            "tags": [],
            "image/png": {
              "width": 573,
              "height": 572
            }
          }
        }
      ]
    },
    {
      "cell_type": "code",
      "metadata": {
        "id": "rs2cnju6JDeu",
        "outputId": "945e1041-31df-469e-8dc5-f4ed9367002b",
        "colab": {
          "base_uri": "https://localhost:8080/",
          "height": 34
        }
      },
      "source": [
        "#librería de maching lerning\n",
        "import tensorflow as tf\n",
        "\n",
        "from tensorflow import keras\n",
        "\n",
        "print(tf.__version__)"
      ],
      "execution_count": null,
      "outputs": [
        {
          "output_type": "stream",
          "text": [
            "1.15.0\n"
          ],
          "name": "stdout"
        }
      ]
    },
    {
      "cell_type": "code",
      "metadata": {
        "id": "8l1EqJ1TVvKU",
        "outputId": "bc7447a5-ab44-4967-d452-f0dceec21ebe",
        "colab": {
          "base_uri": "https://localhost:8080/",
          "height": 88
        }
      },
      "source": [
        "model = keras.Sequential([\n",
        "                         keras.layers.Flatten(input_shape=(28, 28)),\n",
        "                         keras.layers.Dense(128, activation=tf.nn.relu),\n",
        "                         keras.layers.Dense(10, activation=tf.nn.softmax)\n",
        "])"
      ],
      "execution_count": null,
      "outputs": [
        {
          "output_type": "stream",
          "text": [
            "WARNING:tensorflow:From /usr/local/lib/python3.6/dist-packages/tensorflow_core/python/ops/resource_variable_ops.py:1630: calling BaseResourceVariable.__init__ (from tensorflow.python.ops.resource_variable_ops) with constraint is deprecated and will be removed in a future version.\n",
            "Instructions for updating:\n",
            "If using Keras pass *_constraint arguments to layers.\n"
          ],
          "name": "stdout"
        }
      ]
    },
    {
      "cell_type": "code",
      "metadata": {
        "id": "XTy7LPjDkuSb"
      },
      "source": [
        "model.compile(optimizer='adam',\n",
        "              loss='sparse_categorical_crossentropy',\n",
        "              metrics=['accuracy'])"
      ],
      "execution_count": null,
      "outputs": []
    },
    {
      "cell_type": "code",
      "metadata": {
        "id": "PKpzpzbnkyF4",
        "outputId": "4fd1d06f-fa0c-48be-94a0-2e03240b89b4",
        "colab": {
          "base_uri": "https://localhost:8080/",
          "height": 340
        }
      },
      "source": [
        "# train_images = np.reshape(train_images, -1) \n",
        "\n",
        "\n",
        "#train_images = train_images.transpose((-1, 0, 1)) \n",
        "\n",
        "#train_images = train_images.convert(\"L\")\n",
        "\n",
        "input_shape = train_images.shape\n",
        "input_shape\n",
        "model.fit(train_images, train_labels, epochs=10)"
      ],
      "execution_count": null,
      "outputs": [
        {
          "output_type": "error",
          "ename": "ValueError",
          "evalue": "ignored",
          "traceback": [
            "\u001b[0;31m---------------------------------------------------------------------------\u001b[0m",
            "\u001b[0;31mValueError\u001b[0m                                Traceback (most recent call last)",
            "\u001b[0;32m<ipython-input-162-765a3130ed30>\u001b[0m in \u001b[0;36m<module>\u001b[0;34m()\u001b[0m\n\u001b[1;32m      2\u001b[0m \u001b[0minput_shape\u001b[0m \u001b[0;34m=\u001b[0m \u001b[0mtrain_images\u001b[0m\u001b[0;34m.\u001b[0m\u001b[0mshape\u001b[0m\u001b[0;34m\u001b[0m\u001b[0;34m\u001b[0m\u001b[0m\n\u001b[1;32m      3\u001b[0m \u001b[0minput_shape\u001b[0m\u001b[0;34m\u001b[0m\u001b[0;34m\u001b[0m\u001b[0m\n\u001b[0;32m----> 4\u001b[0;31m \u001b[0mmodel\u001b[0m\u001b[0;34m.\u001b[0m\u001b[0mfit\u001b[0m\u001b[0;34m(\u001b[0m\u001b[0mtrain_images\u001b[0m\u001b[0;34m,\u001b[0m \u001b[0mtrain_labels\u001b[0m\u001b[0;34m,\u001b[0m \u001b[0mepochs\u001b[0m\u001b[0;34m=\u001b[0m\u001b[0;36m10\u001b[0m\u001b[0;34m)\u001b[0m\u001b[0;34m\u001b[0m\u001b[0;34m\u001b[0m\u001b[0m\n\u001b[0m",
            "\u001b[0;32m/usr/local/lib/python3.6/dist-packages/tensorflow_core/python/keras/engine/training.py\u001b[0m in \u001b[0;36mfit\u001b[0;34m(self, x, y, batch_size, epochs, verbose, callbacks, validation_split, validation_data, shuffle, class_weight, sample_weight, initial_epoch, steps_per_epoch, validation_steps, validation_freq, max_queue_size, workers, use_multiprocessing, **kwargs)\u001b[0m\n\u001b[1;32m    725\u001b[0m         \u001b[0mmax_queue_size\u001b[0m\u001b[0;34m=\u001b[0m\u001b[0mmax_queue_size\u001b[0m\u001b[0;34m,\u001b[0m\u001b[0;34m\u001b[0m\u001b[0;34m\u001b[0m\u001b[0m\n\u001b[1;32m    726\u001b[0m         \u001b[0mworkers\u001b[0m\u001b[0;34m=\u001b[0m\u001b[0mworkers\u001b[0m\u001b[0;34m,\u001b[0m\u001b[0;34m\u001b[0m\u001b[0;34m\u001b[0m\u001b[0m\n\u001b[0;32m--> 727\u001b[0;31m         use_multiprocessing=use_multiprocessing)\n\u001b[0m\u001b[1;32m    728\u001b[0m \u001b[0;34m\u001b[0m\u001b[0m\n\u001b[1;32m    729\u001b[0m   def evaluate(self,\n",
            "\u001b[0;32m/usr/local/lib/python3.6/dist-packages/tensorflow_core/python/keras/engine/training_arrays.py\u001b[0m in \u001b[0;36mfit\u001b[0;34m(self, model, x, y, batch_size, epochs, verbose, callbacks, validation_split, validation_data, shuffle, class_weight, sample_weight, initial_epoch, steps_per_epoch, validation_steps, validation_freq, **kwargs)\u001b[0m\n\u001b[1;32m    641\u001b[0m         \u001b[0msteps\u001b[0m\u001b[0;34m=\u001b[0m\u001b[0msteps_per_epoch\u001b[0m\u001b[0;34m,\u001b[0m\u001b[0;34m\u001b[0m\u001b[0;34m\u001b[0m\u001b[0m\n\u001b[1;32m    642\u001b[0m         \u001b[0mvalidation_split\u001b[0m\u001b[0;34m=\u001b[0m\u001b[0mvalidation_split\u001b[0m\u001b[0;34m,\u001b[0m\u001b[0;34m\u001b[0m\u001b[0;34m\u001b[0m\u001b[0m\n\u001b[0;32m--> 643\u001b[0;31m         shuffle=shuffle)\n\u001b[0m\u001b[1;32m    644\u001b[0m \u001b[0;34m\u001b[0m\u001b[0m\n\u001b[1;32m    645\u001b[0m     \u001b[0;32mif\u001b[0m \u001b[0mvalidation_data\u001b[0m\u001b[0;34m:\u001b[0m\u001b[0;34m\u001b[0m\u001b[0;34m\u001b[0m\u001b[0m\n",
            "\u001b[0;32m/usr/local/lib/python3.6/dist-packages/tensorflow_core/python/keras/engine/training.py\u001b[0m in \u001b[0;36m_standardize_user_data\u001b[0;34m(self, x, y, sample_weight, class_weight, batch_size, check_steps, steps_name, steps, validation_split, shuffle, extract_tensors_from_dataset)\u001b[0m\n\u001b[1;32m   2469\u001b[0m           \u001b[0mfeed_input_shapes\u001b[0m\u001b[0;34m,\u001b[0m\u001b[0;34m\u001b[0m\u001b[0;34m\u001b[0m\u001b[0m\n\u001b[1;32m   2470\u001b[0m           \u001b[0mcheck_batch_axis\u001b[0m\u001b[0;34m=\u001b[0m\u001b[0;32mFalse\u001b[0m\u001b[0;34m,\u001b[0m  \u001b[0;31m# Don't enforce the batch size.\u001b[0m\u001b[0;34m\u001b[0m\u001b[0;34m\u001b[0m\u001b[0m\n\u001b[0;32m-> 2471\u001b[0;31m           exception_prefix='input')\n\u001b[0m\u001b[1;32m   2472\u001b[0m \u001b[0;34m\u001b[0m\u001b[0m\n\u001b[1;32m   2473\u001b[0m     \u001b[0;31m# Get typespecs for the input data and sanitize it if necessary.\u001b[0m\u001b[0;34m\u001b[0m\u001b[0;34m\u001b[0m\u001b[0;34m\u001b[0m\u001b[0m\n",
            "\u001b[0;32m/usr/local/lib/python3.6/dist-packages/tensorflow_core/python/keras/engine/training_utils.py\u001b[0m in \u001b[0;36mstandardize_input_data\u001b[0;34m(data, names, shapes, check_batch_axis, exception_prefix)\u001b[0m\n\u001b[1;32m    561\u001b[0m                            \u001b[0;34m': expected '\u001b[0m \u001b[0;34m+\u001b[0m \u001b[0mnames\u001b[0m\u001b[0;34m[\u001b[0m\u001b[0mi\u001b[0m\u001b[0;34m]\u001b[0m \u001b[0;34m+\u001b[0m \u001b[0;34m' to have '\u001b[0m \u001b[0;34m+\u001b[0m\u001b[0;34m\u001b[0m\u001b[0;34m\u001b[0m\u001b[0m\n\u001b[1;32m    562\u001b[0m                            \u001b[0mstr\u001b[0m\u001b[0;34m(\u001b[0m\u001b[0mlen\u001b[0m\u001b[0;34m(\u001b[0m\u001b[0mshape\u001b[0m\u001b[0;34m)\u001b[0m\u001b[0;34m)\u001b[0m \u001b[0;34m+\u001b[0m \u001b[0;34m' dimensions, but got array '\u001b[0m\u001b[0;34m\u001b[0m\u001b[0;34m\u001b[0m\u001b[0m\n\u001b[0;32m--> 563\u001b[0;31m                            'with shape ' + str(data_shape))\n\u001b[0m\u001b[1;32m    564\u001b[0m         \u001b[0;32mif\u001b[0m \u001b[0;32mnot\u001b[0m \u001b[0mcheck_batch_axis\u001b[0m\u001b[0;34m:\u001b[0m\u001b[0;34m\u001b[0m\u001b[0;34m\u001b[0m\u001b[0m\n\u001b[1;32m    565\u001b[0m           \u001b[0mdata_shape\u001b[0m \u001b[0;34m=\u001b[0m \u001b[0mdata_shape\u001b[0m\u001b[0;34m[\u001b[0m\u001b[0;36m1\u001b[0m\u001b[0;34m:\u001b[0m\u001b[0;34m]\u001b[0m\u001b[0;34m\u001b[0m\u001b[0;34m\u001b[0m\u001b[0m\n",
            "\u001b[0;31mValueError\u001b[0m: Error when checking input: expected flatten_1_input to have 3 dimensions, but got array with shape (25, 32, 32, 3)"
          ]
        }
      ]
    }
  ]
}